{
 "cells": [
  {
   "cell_type": "code",
   "execution_count": 1,
   "id": "10f73849",
   "metadata": {},
   "outputs": [],
   "source": [
    "import os\n",
    "import shutil\n",
    "import random"
   ]
  },
  {
   "cell_type": "code",
   "execution_count": 2,
   "id": "706b7f6e",
   "metadata": {},
   "outputs": [],
   "source": [
    "source_dir = r'C:/Users/sudar/Downloads/Blood cell Cancer/Blood cell Cancer [ALL]'\n",
    "\n",
    "# Define the paths for train, test, and valid datasets\n",
    "train_dir = 'C:/Users/sudar/Downloads/Blood cell Cancer/Train'\n",
    "test_dir = 'C:/Users/sudar/Downloads/Blood cell Cancer/Test'\n",
    "valid_dir = 'C:/Users/sudar/Downloads/Blood cell Cancer/Validation'\n",
    "\n",
    "# Define the train-test-valid split ratios\n",
    "train_ratio = 0.8  # 80% train\n",
    "test_ratio = 0.1   # 10% test\n",
    "valid_ratio = 0.1  # 10% valid\n",
    "\n",
    "# Create the train, test, and valid directories\n",
    "os.makedirs(train_dir, exist_ok=True)\n",
    "os.makedirs(test_dir, exist_ok=True)\n",
    "os.makedirs(valid_dir, exist_ok=True)\n",
    "\n",
    "# Iterate through the labeled folders\n",
    "for label_folder in os.listdir(source_dir):\n",
    "    if os.path.isdir(os.path.join(source_dir, label_folder)):\n",
    "        label_images = os.listdir(os.path.join(source_dir, label_folder))\n",
    "        random.shuffle(label_images)\n",
    "\n",
    "        # Split the images based on the defined ratios\n",
    "        num_images = len(label_images)\n",
    "        num_train = int(num_images * train_ratio)\n",
    "        num_test = int(num_images * test_ratio)\n",
    "        num_valid = num_images - num_train - num_test\n",
    "\n",
    "        train_images = label_images[:num_train]\n",
    "        test_images = label_images[num_train:num_train + num_test]\n",
    "        valid_images = label_images[num_train + num_test:]\n",
    "\n",
    "        # Copy train images to the train directory\n",
    "        for train_image in train_images:\n",
    "            src_path = os.path.join(source_dir, label_folder, train_image)\n",
    "            dst_path = os.path.join(train_dir, label_folder, train_image)\n",
    "            os.makedirs(os.path.dirname(dst_path), exist_ok=True)\n",
    "            shutil.copy(src_path, dst_path)\n",
    "\n",
    "        # Copy test images to the test directory\n",
    "        for test_image in test_images:\n",
    "            src_path = os.path.join(source_dir, label_folder, test_image)\n",
    "            dst_path = os.path.join(test_dir, label_folder, test_image)\n",
    "            os.makedirs(os.path.dirname(dst_path), exist_ok=True)\n",
    "            shutil.copy(src_path, dst_path)\n",
    "\n",
    "        # Copy valid images to the valid directory\n",
    "        for valid_image in valid_images:\n",
    "            src_path = os.path.join(source_dir, label_folder, valid_image)\n",
    "            dst_path = os.path.join(valid_dir, label_folder, valid_image)\n",
    "            os.makedirs(os.path.dirname(dst_path), exist_ok=True)\n",
    "            shutil.copy(src_path, dst_path)"
   ]
  },
  {
   "cell_type": "code",
   "execution_count": null,
   "id": "b998b941",
   "metadata": {},
   "outputs": [],
   "source": []
  }
 ],
 "metadata": {
  "kernelspec": {
   "display_name": "Python 3 (ipykernel)",
   "language": "python",
   "name": "python3"
  },
  "language_info": {
   "codemirror_mode": {
    "name": "ipython",
    "version": 3
   },
   "file_extension": ".py",
   "mimetype": "text/x-python",
   "name": "python",
   "nbconvert_exporter": "python",
   "pygments_lexer": "ipython3",
   "version": "3.10.8"
  }
 },
 "nbformat": 4,
 "nbformat_minor": 5
}
